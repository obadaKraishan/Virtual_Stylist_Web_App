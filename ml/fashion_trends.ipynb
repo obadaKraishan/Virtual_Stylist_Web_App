{
 "cells": [
  {
   "cell_type": "code",
   "id": "initial_id",
   "metadata": {
    "collapsed": true,
    "ExecuteTime": {
     "end_time": "2024-07-20T11:59:02.790281Z",
     "start_time": "2024-07-20T11:58:56.488945Z"
    }
   },
   "source": [
    "import pandas as pd\n",
    "from sklearn.model_selection import train_test_split, GridSearchCV\n",
    "from sklearn.ensemble import RandomForestClassifier\n",
    "import pickle\n",
    "\n",
    "# Load the expanded dataset\n",
    "df = pd.read_csv('dataset/fashion_data_large.csv')\n",
    "\n",
    "# Convert multi-label color field to individual binary fields\n",
    "colors = df['color'].str.get_dummies(sep=', ')\n",
    "df = pd.concat([df.drop('color', axis=1), colors], axis=1)\n",
    "\n",
    "# Selecting example features and labels\n",
    "features = df.drop('label', axis=1)\n",
    "labels = df['label']\n",
    "\n",
    "# Convert categorical data to numerical data\n",
    "features = pd.get_dummies(features)\n",
    "\n",
    "# Store the column names\n",
    "feature_names = features.columns.tolist()\n",
    "\n",
    "# Split the data\n",
    "X_train, X_test, y_train, y_test = train_test_split(features, labels, test_size=0.2, random_state=42)\n",
    "\n",
    "# Define the model with hyperparameter tuning\n",
    "param_grid = {\n",
    "    'n_estimators': [100, 200, 300],\n",
    "    'max_depth': [None, 10, 20, 30],\n",
    "    'min_samples_split': [2, 5, 10],\n",
    "    'min_samples_leaf': [1, 2, 4]\n",
    "}\n",
    "\n",
    "rf = RandomForestClassifier(random_state=42)\n",
    "grid_search = GridSearchCV(estimator=rf, param_grid=param_grid, cv=3, n_jobs=-1, verbose=2)\n",
    "grid_search.fit(X_train, y_train)\n",
    "\n",
    "# Get the best model\n",
    "best_model = grid_search.best_estimator_\n",
    "\n",
    "# Save the best model and feature names\n",
    "model_path = 'models/recommendation_model.pkl'\n",
    "with open(model_path, 'wb') as f:\n",
    "    pickle.dump((best_model, feature_names), f)\n",
    "\n",
    "print(f\"Best model and feature names saved to {model_path}\")\n"
   ],
   "outputs": [
    {
     "name": "stdout",
     "output_type": "stream",
     "text": [
      "Fitting 3 folds for each of 108 candidates, totalling 324 fits\n",
      "Best model and feature names saved to models/recommendation_model.pkl\n"
     ]
    }
   ],
   "execution_count": 8
  },
  {
   "metadata": {},
   "cell_type": "markdown",
   "source": "",
   "id": "162a32705b7c7c56"
  }
 ],
 "metadata": {
  "kernelspec": {
   "display_name": "Python 3",
   "language": "python",
   "name": "python3"
  },
  "language_info": {
   "codemirror_mode": {
    "name": "ipython",
    "version": 2
   },
   "file_extension": ".py",
   "mimetype": "text/x-python",
   "name": "python",
   "nbconvert_exporter": "python",
   "pygments_lexer": "ipython2",
   "version": "2.7.6"
  }
 },
 "nbformat": 4,
 "nbformat_minor": 5
}
